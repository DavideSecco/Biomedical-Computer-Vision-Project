{
 "cells": [
  {
   "cell_type": "markdown",
   "metadata": {},
   "source": [
    "##### Carico Librerie"
   ]
  },
  {
   "cell_type": "code",
   "execution_count": null,
   "metadata": {},
   "outputs": [],
   "source": [
    "pip install --upgrade pydicom scikit-image nibabel scipy matplotlib numpy opencv-python"
   ]
  },
  {
   "cell_type": "code",
   "execution_count": null,
   "metadata": {},
   "outputs": [],
   "source": [
    "pip install --upgrade pip"
   ]
  },
  {
   "cell_type": "code",
   "execution_count": null,
   "metadata": {},
   "outputs": [],
   "source": [
    "pip install "
   ]
  },
  {
   "cell_type": "code",
   "execution_count": 2,
   "metadata": {},
   "outputs": [],
   "source": [
    "# Librerie necessarie\n",
    "from glob import glob\n",
    "import numpy as np\n",
    "import matplotlib.pyplot as plt\n",
    "\n",
    "import skimage.transform\n",
    "import os\n",
    "from scipy.ndimage import zoom\n",
    "from skimage import exposure\n",
    "\n",
    "import pydicom as dicom\n",
    "\n",
    "import cv2"
   ]
  },
  {
   "cell_type": "markdown",
   "metadata": {},
   "source": [
    "#### Classi Per il progetto"
   ]
  },
  {
   "cell_type": "code",
   "execution_count": 37,
   "metadata": {},
   "outputs": [],
   "source": [
    "class Abstract_volum:\n",
    "    def __init__(self, path):\n",
    "        self.path = path\n",
    "        self.img_vol_raw = None\n",
    "        self.img_vol_ela = None\n",
    "\n",
    "    def get_middle_slice(self, volum):\n",
    "        return int(np.round(volum.shape[0]/2))\n",
    "\n",
    "    def get_image_ela(self): \n",
    "        # print ('Middle slice image 1: ', mid_slice_1)\n",
    "        fig = plt.figure(figsize=(4,4))\n",
    "        a = fig.add_subplot(1,1,1)\n",
    "        # print(self.get_middle_slice(self.img_vol_ela))\n",
    "        # print(self.img_vol_raw [self.get_middle_slice(self.img_vol_raw), :, :])\n",
    "        imgplot = plt.imshow(self.img_vol_ela [self.get_middle_slice(self.img_vol_ela), :, :], cmap = 'gray')\n",
    "\n",
    "class MR(Abstract_volum):\n",
    "    def __init__(self, path):\n",
    "        super().__init__(path)\n",
    "\n",
    "        img_vol = []\n",
    "        for path, _, files in sorted(os.walk(self.path)): \n",
    "            for filename in (sorted(files)): \n",
    "                if filename.endswith (dcm_ext):\n",
    "                    # print (filename)                                              # uncomment if you want see the name of the slice\n",
    "                    img_dcm_std = dicom.dcmread(os.path.join(self.path,filename))   # Funzione che legge i file dato il percoso\n",
    "                    img = img_dcm_std.pixel_array                                   # estraiamo la matrice dell'immagine\n",
    "                    img_vol.append (img)                                            # aggiungo immagine al volume\n",
    "\n",
    "        self.img_vol_raw = np.array (img_vol)\n",
    "\n",
    "        z_space = img_dcm_std.SpacingBetweenSlices\n",
    "        x_space = img_dcm_std.PixelSpacing [0]\n",
    "        y_space = img_dcm_std.PixelSpacing [1]\n",
    "\n",
    "        self.vox_dims = (x_space, y_space, z_space) # I vox dims non voglio che siano la attributi del volume\n",
    "\n",
    "        self.img_vol_ela = self.img_vol_raw\n",
    "\n",
    "    def reseampling(self):\n",
    "        \"\"\"\n",
    "        RESEAMPLING DEI VOXEL\n",
    "            1) Definisco il mio voxel target, hai due posibilità:\n",
    "                - scegli arbitrariamente (come in questo caso)\n",
    "                - Fai la media di tutti i voxel\n",
    "            2) Calcolo il mio vettore di scala: semplicemnte il rapporto fra i miei vettori di scala: dim di partenza dei voxel/dim di target\n",
    "            3) Funzione che modifica la foto secondo il vettore\n",
    "        \"\"\"\n",
    "        target_resolution = (1, 1, 1)\n",
    "        scale_vector = (self.vox_dims[0]/target_resolution[0], self.vox_dims[1]/target_resolution[1], self.vox_dims[2]/target_resolution[2])\n",
    "        \n",
    "        self.vox_dims = target_resolution\n",
    "        self.img_vol_ela = skimage.transform.rescale(self.img_vol_ela, scale_vector, order=3, preserve_range=True,  mode='constant')    \n",
    "\n",
    "    def resizing(self):\n",
    "        \"\"\"\n",
    "        RESIZE DELL'IMMAGINE: devo fare uno zoom\n",
    "            1) Definisco la dimesione target\n",
    "            2) Definisco il fattore di scala\n",
    "            3) Passo volume, vettore di scale e un ordine (nel reseampling viene fatta interpolazione):\n",
    "                - order 3 if images are in grey scale\n",
    "                - order 0 if images are binary scale\n",
    "\n",
    "        Ho ottenuto immagini di dim uguali in tutte le direzioni\n",
    "        \"\"\"\n",
    "        target_shape = [192, 192, 192] \n",
    "        factors_1 = (\n",
    "                target_shape[0]/self.img_vol_ela.shape[0],\n",
    "                target_shape[1]/self.img_vol_ela.shape[1], \n",
    "                target_shape[2]/self.img_vol_ela.shape[2]\n",
    "                )\n",
    "\n",
    "        # print(factors_1)\n",
    "\n",
    "        self.img_vol_ela = zoom(self.img_vol_ela, factors_1, order=3, mode= 'nearest') \n",
    "\n",
    "    def standardization(self): # a me non sembra faccia un tubo\n",
    "        img_o = np.float32(self.img_vol_ela.copy())\n",
    "        m = np.mean(img_o)\n",
    "        s = np.std(img_o)\n",
    "        self.img_vol_ela = np.divide((img_o - m), s)       # return the normalize image\n",
    "\n",
    "        # print((volums[0].img_vol_raw == normalized_img).all())\n",
    "\n",
    "    def normalization(self):\n",
    "        self.img_vol_ela = cv2.normalize(self.img_vol_ela, None, alpha = 0, beta = 255, norm_type = cv2.NORM_MINMAX, dtype = cv2.CV_8UC1)\n",
    "\n",
    "    def equalizzazione(self):\n",
    "        # eq_img_1 = cv2.equalizeHist(norm_image [volums[0].get_middle_slice(), :, :])      # equalizzazione dell'istogramma tradizionale (applicato a immagine complessiva) PEGGIORE\n",
    "        clahe_img = cv2.createCLAHE (clipLimit = 2.0, tileGridSize = (8, 8))                # equalizzazione adattiva (algo clahe) MIGLIORE\n",
    "\n",
    "        print(type(clahe_img.apply (self.img_vol_ela[1, :, :])))\n",
    "\n",
    "        aux = np.empty(shape=(192, 192, 192))\n",
    "        for i in range(192):\n",
    "            aux[i,:,:] = clahe_img.apply(self.img_vol_ela[i, :, :])\n",
    "        \n",
    "        self.img_vol_ela = aux\n",
    "\n",
    "    def pre_processing(self):\n",
    "        self.reseampling()\n",
    "        print(\"post reseampling: \" + str(self.img_vol_ela.shape))\n",
    "        self.resizing()\n",
    "        print(\"post resizing: \" + str(self.img_vol_ela.shape))\n",
    "        self.standardization()\n",
    "        print(\"post standardization: \" + str(self.img_vol_ela.shape))\n",
    "        self.normalization()\n",
    "        print(\"post normalization: \" + str(self.img_vol_ela.shape))\n",
    "        self.equalizzazione()\n",
    "        print(\"post equalizzazione: \" + str(self.img_vol_ela.shape))\n",
    "\n",
    "    def compare_images_pre_post_processing(self):   \n",
    "        fig = plt.figure(figsize=(8,8))\n",
    "\n",
    "        a = fig.add_subplot(1, 2, 1)\n",
    "        imgplot = plt.imshow(self.img_vol_raw [(self.get_middle_slice(self.img_vol_raw)), :, :], cmap = 'gray')\n",
    "\n",
    "        a = fig.add_subplot(1, 2, 2)\n",
    "        imgplot = plt.imshow(self.img_vol_ela [(self.get_middle_slice(self.img_vol_ela)), :, :], cmap = 'gray')\n",
    " \n",
    "    def __str__(self):\n",
    "        return self.path + \"\\n\" + str(self.vox_dims) + \"\\n\" + str(self.img_vol_raw.shape) + \"\\n\" + str(self.img_vol_ela.shape)\n",
    "\n",
    "class Segmentation(Abstract_volum):\n",
    "    def __init__(self, path):\n",
    "        super().__init__(path)\n",
    "        \n",
    "        img_seg = [] \n",
    "        for path, _, files in sorted(os.walk(self.path)): \n",
    "            for filename in (sorted(files)): \n",
    "                if filename.endswith (img_ext):\n",
    "                        # print (filename)                                              # uncomment if you want see the name of the slice\n",
    "                        img = cv2.imread(os.path.join(self.path,filename))              # Funzione che legge i file dato il percoso\n",
    "                        img_seg.append (img)                                            # aggiungo immagine al volume\n",
    "\n",
    "        self.img_vol_raw = np.array (img_seg)\n",
    "\n",
    "        self.img_vol_ela = self.img_vol_raw\n",
    "\n",
    "    def resizing(self):\n",
    "        \"\"\"\n",
    "        RESIZE DELL'IMMAGINE: devo fare uno zoom\n",
    "        1) Definisco la dimesione target\n",
    "        2) Definisco il fattore di scala\n",
    "        3) Passo volume, vettore di scale e un ordine (nel reseampling viene fatta interpolazione):\n",
    "                - order 3 if images are in grey scale\n",
    "                - order 0 if images are binary scale\n",
    "\n",
    "        Ho ottenuto immagini di dim uguali in tutte le direzioni\n",
    "        \"\"\"\n",
    "        target_shape = [192, 192, 192, 3] \n",
    "        factors_1 = (\n",
    "            target_shape[0]/self.img_vol_ela.shape[0],\n",
    "            target_shape[1]/self.img_vol_ela.shape[1], \n",
    "            target_shape[2]/self.img_vol_ela.shape[2],\n",
    "            target_shape[3]/self.img_vol_ela.shape[3]\n",
    "        )\n",
    "\n",
    "        print(factors_1)\n",
    "\n",
    "        self.img_vol_ela = zoom(self.img_vol_ela, factors_1, order=0, mode= 'nearest') \n",
    "\n",
    "    def __str__(self):\n",
    "        return self.path + \"\\n\" + str(self.img_vol_ela.shape)   # + \"\\n\" + str(self.img_vol_ela.shape)\n"
   ]
  },
  {
   "cell_type": "markdown",
   "metadata": {},
   "source": [
    "#### Funzione di supporto"
   ]
  },
  {
   "cell_type": "code",
   "execution_count": 22,
   "metadata": {},
   "outputs": [],
   "source": [
    "def create_volums(root, suff):\n",
    "    '''\n",
    "    Function that create return an array of MR (magnetic resonance) or Segmentation\n",
    "    Given the path of the folder that contains the files\n",
    "    '''\n",
    "    paths = sorted(glob(os.path.join(root, \"*\", suff)))\n",
    "    volums = []\n",
    "    for path in paths:\n",
    "        if suff[-8:] == \"/Ground/\":\n",
    "            volum = Segmentation(path)\n",
    "        else: \n",
    "            volum = MR(path)\n",
    "        volums.append(volum)\n",
    "\n",
    "    return volums"
   ]
  },
  {
   "cell_type": "markdown",
   "metadata": {},
   "source": [
    "#### Pre-processing MR"
   ]
  },
  {
   "cell_type": "code",
   "execution_count": 42,
   "metadata": {},
   "outputs": [
    {
     "name": "stdout",
     "output_type": "stream",
     "text": [
      "/mnt/Volume/Mega/LaureaMagistrale/CorsiSemestre/PassionInAction/Progetto/Train_Sets/MR/1/T1DUAL/DICOM_anon/InPhase/\n",
      "('1.89453125', '1.89453125', '5.5')\n",
      "(35, 256, 256)\n",
      "(35, 256, 256)\n",
      "post reseampling: (66, 485, 1408)\n",
      "(2.909090909090909, 0.3958762886597938, 0.13636363636363635)\n",
      "post resizing: (192, 192, 192)\n",
      "post standardization: (192, 192, 192)\n",
      "post normalization: (192, 192, 192)\n",
      "<class 'numpy.ndarray'>\n",
      "post equalizzazione: (192, 192, 192)\n",
      "/mnt/Volume/Mega/LaureaMagistrale/CorsiSemestre/PassionInAction/Progetto/Train_Sets/MR/1/T1DUAL/DICOM_anon/InPhase/\n",
      "(1, 1, 1)\n",
      "(35, 256, 256)\n",
      "(192, 192, 192)\n"
     ]
    }
   ],
   "source": [
    "# Creo MR:\n",
    "\n",
    "root_MR = \"/mnt/Volume/Mega/LaureaMagistrale/CorsiSemestre/PassionInAction/Progetto/Train_Sets/MR\"\n",
    "suff_InPhase = \"T1DUAL/DICOM_anon/InPhase/\"\n",
    "suff_OutPhase = \"T1DUAL/DICOM_anon/OutPhase/\"\n",
    "dcm_ext = '.dcm'\n",
    "\n",
    "mrs = create_volums(root_MR, suff_InPhase) + create_volums(root_MR, suff_OutPhase)\n",
    "\n",
    "\"\"\"\n",
    "for volum in volums:\n",
    "    print(volum)\n",
    "    volums[i].pre_processing()\n",
    "    print(volum)\n",
    "\"\"\"\n",
    "\n",
    "for i in range(1):\n",
    "    print(mrs[i])\n",
    "    mrs[i].pre_processing()\n",
    "    print(mrs[i])"
   ]
  },
  {
   "cell_type": "markdown",
   "metadata": {},
   "source": [
    "#### Pre-processing Segmentazioni"
   ]
  },
  {
   "cell_type": "code",
   "execution_count": 44,
   "metadata": {},
   "outputs": [
    {
     "name": "stdout",
     "output_type": "stream",
     "text": [
      "/mnt/Volume/Mega/LaureaMagistrale/CorsiSemestre/PassionInAction/Progetto/Train_Sets/MR/1/T1DUAL/Ground/\n",
      "(35, 256, 256, 3)\n",
      "(5.485714285714286, 0.75, 0.75, 1.0)\n",
      "/mnt/Volume/Mega/LaureaMagistrale/CorsiSemestre/PassionInAction/Progetto/Train_Sets/MR/1/T1DUAL/Ground/\n",
      "(192, 192, 192, 3)\n"
     ]
    },
    {
     "data": {
      "image/png": "[encoded data removed]",
      "text/plain": [
       "<Figure size 400x400 with 1 Axes>"
      ]
     },
     "metadata": {},
     "output_type": "display_data"
    },
    {
     "data": {
      "image/png": "[encoded data removed]",
      "text/plain": [
       "<Figure size 400x400 with 1 Axes>"
      ]
     },
     "metadata": {},
     "output_type": "display_data"
    }
   ],
   "source": [
    "# Creo Segmentations\n",
    "\n",
    "root_Seg = \"/mnt/Volume/Mega/LaureaMagistrale/CorsiSemestre/PassionInAction/Progetto/Train_Sets/MR\"\n",
    "suff = \"T1DUAL/Ground/\"\n",
    "img_ext = '.png'\n",
    "\n",
    "segs = create_volums(root_Seg, suff)\n",
    "\"\"\"\n",
    "for volum in volums:\n",
    "    print(volum)\n",
    "    volum.reseampling()\n",
    "    volum.resizing()\n",
    "    print(volum)\n",
    "\"\"\"\n",
    "\n",
    "for i in range(1):\n",
    "    print(str(segs[i]))\n",
    "    segs[i].resizing()\n",
    "    print(str(segs[i]))\n",
    "\n",
    "segs[1].get_image_ela()\n",
    "mrs[1].get_image_ela()"
   ]
  },
  {
   "cell_type": "markdown",
   "metadata": {},
   "source": [
    "# Fai resize anche su segmentazione\n",
    "\n",
    "\n",
    "# c'è file per range di pixel corrispondente ma tu portali a valori unici!\n",
    "\n",
    "\n",
    "# riguarda lezione 8 alla fine per tutti i consigli!"
   ]
  }
 ],
 "metadata": {
  "kernelspec": {
   "display_name": "Python 3",
   "language": "python",
   "name": "python3"
  },
  "language_info": {
   "codemirror_mode": {
    "name": "ipython",
    "version": 3
   },
   "file_extension": ".py",
   "mimetype": "text/x-python",
   "name": "python",
   "nbconvert_exporter": "python",
   "pygments_lexer": "ipython3",
   "version": "3.11.6"
  }
 },
 "nbformat": 4,
 "nbformat_minor": 2
}
